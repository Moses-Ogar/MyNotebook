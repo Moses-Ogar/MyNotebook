{
 "cells": [
  {
   "cell_type": "code",
   "execution_count": 1,
   "id": "b11dd7e2-8b4a-4a63-8a0e-f86da8b4739b",
   "metadata": {},
   "outputs": [
    {
     "name": "stdout",
     "output_type": "stream",
     "text": [
      "Requirement already satisfied: beautifulsoup4 in c:\\users\\21418\\appdata\\local\\anaconda3\\lib\\site-packages (4.12.3)\n",
      "Requirement already satisfied: requests in c:\\users\\21418\\appdata\\local\\anaconda3\\lib\\site-packages (2.32.3)\n",
      "Requirement already satisfied: pandas in c:\\users\\21418\\appdata\\local\\anaconda3\\lib\\site-packages (2.2.2)\n",
      "Requirement already satisfied: soupsieve>1.2 in c:\\users\\21418\\appdata\\local\\anaconda3\\lib\\site-packages (from beautifulsoup4) (2.5)\n",
      "Requirement already satisfied: charset-normalizer<4,>=2 in c:\\users\\21418\\appdata\\local\\anaconda3\\lib\\site-packages (from requests) (3.3.2)\n",
      "Requirement already satisfied: idna<4,>=2.5 in c:\\users\\21418\\appdata\\local\\anaconda3\\lib\\site-packages (from requests) (3.7)\n",
      "Requirement already satisfied: urllib3<3,>=1.21.1 in c:\\users\\21418\\appdata\\local\\anaconda3\\lib\\site-packages (from requests) (2.2.3)\n",
      "Requirement already satisfied: certifi>=2017.4.17 in c:\\users\\21418\\appdata\\local\\anaconda3\\lib\\site-packages (from requests) (2024.12.14)\n",
      "Requirement already satisfied: numpy>=1.26.0 in c:\\users\\21418\\appdata\\local\\anaconda3\\lib\\site-packages (from pandas) (1.26.4)\n",
      "Requirement already satisfied: python-dateutil>=2.8.2 in c:\\users\\21418\\appdata\\local\\anaconda3\\lib\\site-packages (from pandas) (2.9.0.post0)\n",
      "Requirement already satisfied: pytz>=2020.1 in c:\\users\\21418\\appdata\\local\\anaconda3\\lib\\site-packages (from pandas) (2024.1)\n",
      "Requirement already satisfied: tzdata>=2022.7 in c:\\users\\21418\\appdata\\local\\anaconda3\\lib\\site-packages (from pandas) (2023.3)\n",
      "Requirement already satisfied: six>=1.5 in c:\\users\\21418\\appdata\\local\\anaconda3\\lib\\site-packages (from python-dateutil>=2.8.2->pandas) (1.16.0)\n"
     ]
    },
    {
     "name": "stderr",
     "output_type": "stream",
     "text": [
      "WARNING: Ignoring invalid distribution ~qlalchemy (C:\\Users\\21418\\AppData\\Local\\anaconda3\\Lib\\site-packages)\n",
      "WARNING: Ignoring invalid distribution ~qlalchemy (C:\\Users\\21418\\AppData\\Local\\anaconda3\\Lib\\site-packages)\n",
      "WARNING: Ignoring invalid distribution ~qlalchemy (C:\\Users\\21418\\AppData\\Local\\anaconda3\\Lib\\site-packages)\n"
     ]
    }
   ],
   "source": [
    "!pip install beautifulsoup4 requests pandas"
   ]
  },
  {
   "cell_type": "code",
   "execution_count": 3,
   "id": "6d614db6-591b-4992-9e7a-ba7ee908525a",
   "metadata": {},
   "outputs": [],
   "source": [
    "import requests\n",
    "from bs4 import BeautifulSoup\n",
    "import re\n",
    "import unicodedata\n",
    "import pandas as pd"
   ]
  },
  {
   "cell_type": "code",
   "execution_count": 5,
   "id": "23f88ae5-5d22-4ccc-a7c6-9c2d69e67dff",
   "metadata": {},
   "outputs": [
    {
     "name": "stdout",
     "output_type": "stream",
     "text": [
      "✅ All required modules are imported!\n"
     ]
    }
   ],
   "source": [
    "import sys\n",
    "imported_modules = set(sys.modules.keys())\n",
    "\n",
    "required_modules = {'requests', 'bs4', 're', 'unicodedata', 'pandas'}\n",
    "missing_modules = required_modules - imported_modules\n",
    "\n",
    "if not missing_modules:\n",
    "    print(\"✅ All required modules are imported!\")\n",
    "else:\n",
    "    print(f\"❌ Missing modules: {missing_modules}\")"
   ]
  },
  {
   "cell_type": "code",
   "execution_count": 7,
   "id": "5074bfe3-b24c-4bf9-b4b0-391e8bbb829d",
   "metadata": {},
   "outputs": [],
   "source": [
    "def date_time(table_cells):\n",
    "    return [data_time.strip() for data_time in list(table_cells.strings)][0:2]\n",
    "\n",
    "def booster_version(table_cells):\n",
    "    out = ''.join([booster_version for i, booster_version in enumerate(table_cells.strings) if i%2==0][0:-1])\n",
    "    return out\n",
    "\n",
    "def landing_status(table_cells):\n",
    "    out = [i for i in table_cells.strings][0]\n",
    "    return out\n",
    "\n",
    "def get_mass(table_cells):\n",
    "    mass = unicodedata.normalize(\"NFKD\", table_cells.text).strip()\n",
    "    if mass:\n",
    "        mass.find(\"kg\")\n",
    "        new_mass = mass[0:mass.find(\"kg\")+2]\n",
    "    else:\n",
    "        new_mass = 0\n",
    "    return new_mass\n",
    "\n",
    "def extract_column_from_header(row):\n",
    "    if row.br:\n",
    "        row.br.extract()\n",
    "    if row.a:\n",
    "        row.a.extract()\n",
    "    if row.sup:\n",
    "        row.sup.extract()\n",
    "    column_name = ' '.join(row.contents)\n",
    "    if not(column_name.strip().isdigit()):\n",
    "        column_name = column_name.strip()\n",
    "        return column_name"
   ]
  },
  {
   "cell_type": "code",
   "execution_count": 9,
   "id": "d8fe9207-cedc-4b34-a88e-53ec9ee076d6",
   "metadata": {},
   "outputs": [
    {
     "data": {
      "text/plain": [
       "200"
      ]
     },
     "execution_count": 9,
     "metadata": {},
     "output_type": "execute_result"
    }
   ],
   "source": [
    "static_url = \"https://en.wikipedia.org/w/index.php?title=List_of_Falcon_9_and_Falcon_Heavy_launches&oldid=1027686922\"\n",
    "\n",
    "# Make HTTP request\n",
    "response = requests.get(static_url)\n",
    "response.status_code  # Should return 200"
   ]
  },
  {
   "cell_type": "code",
   "execution_count": 11,
   "id": "55bb05b8-4183-473b-8e19-6b622ea1c2e3",
   "metadata": {},
   "outputs": [
    {
     "name": "stdout",
     "output_type": "stream",
     "text": [
      "List of Falcon 9 and Falcon Heavy launches - Wikipedia\n"
     ]
    }
   ],
   "source": [
    "soup = BeautifulSoup(response.text, 'html.parser')\n",
    "\n",
    "# Verify connection\n",
    "print(soup.title.string)  # Should show Wikipedia page title"
   ]
  },
  {
   "cell_type": "code",
   "execution_count": 13,
   "id": "075a36cd-00fe-4150-a923-df378a38f1a7",
   "metadata": {},
   "outputs": [
    {
     "name": "stdout",
     "output_type": "stream",
     "text": [
      "Found 25 tables\n"
     ]
    }
   ],
   "source": [
    "html_tables = soup.find_all('table')\n",
    "\n",
    "# Verify we found tables\n",
    "print(f\"Found {len(html_tables)} tables\")"
   ]
  },
  {
   "cell_type": "code",
   "execution_count": 15,
   "id": "be456057-9e70-470b-b65e-9b51ed998d75",
   "metadata": {},
   "outputs": [
    {
     "name": "stdout",
     "output_type": "stream",
     "text": [
      "['Flight No.', 'Date and time ( )', 'Launch site', 'Payload', 'Payload mass', 'Orbit', 'Customer', 'Launch outcome']\n"
     ]
    }
   ],
   "source": [
    "# Get the third table (index 2) which contains launch data\n",
    "first_launch_table = html_tables[2]\n",
    "\n",
    "# Extract column names\n",
    "column_names = []\n",
    "for th in first_launch_table.find_all('th'):\n",
    "    name = extract_column_from_header(th)\n",
    "    if name and len(name) > 0:\n",
    "        column_names.append(name)\n",
    "\n",
    "print(column_names)"
   ]
  },
  {
   "cell_type": "code",
   "execution_count": 17,
   "id": "be333081-0f73-4efb-8e87-4b4ad4f7bc5a",
   "metadata": {},
   "outputs": [],
   "source": [
    "launch_dict = dict.fromkeys(column_names)\n",
    "\n",
    "# Clean up columns\n",
    "del launch_dict['Date and time ( )']\n",
    "\n",
    "# Initialize with empty lists\n",
    "for key in launch_dict:\n",
    "    launch_dict[key] = []\n",
    "    \n",
    "# Add additional columns\n",
    "launch_dict['Version Booster'] = []\n",
    "launch_dict['Booster landing'] = []\n",
    "launch_dict['Date'] = []\n",
    "launch_dict['Time'] = []"
   ]
  },
  {
   "cell_type": "code",
   "execution_count": 19,
   "id": "3a8e54bc-4ba4-4231-bbe2-cd26602cc814",
   "metadata": {},
   "outputs": [],
   "source": [
    "extracted_row = 0\n",
    "\n",
    "for table in soup.find_all('table', \"wikitable plainrowheaders collapsible\"):\n",
    "    for rows in table.find_all(\"tr\"):\n",
    "        if rows.th:\n",
    "            if rows.th.string:\n",
    "                flight_number = rows.th.string.strip()\n",
    "                flag = flight_number.isdigit()\n",
    "        else:\n",
    "            flag = False\n",
    "            \n",
    "        row = rows.find_all('td')\n",
    "        \n",
    "        if flag:\n",
    "            extracted_row += 1\n",
    "            \n",
    "            # Flight Number\n",
    "            launch_dict['Flight No.'].append(flight_number)\n",
    "            \n",
    "            # Date and Time\n",
    "            datatimelist = date_time(row[0])\n",
    "            launch_dict['Date'].append(datatimelist[0].strip(','))\n",
    "            launch_dict['Time'].append(datatimelist[1])\n",
    "            \n",
    "            # Booster Version\n",
    "            bv = booster_version(row[1])\n",
    "            if not bv:\n",
    "                bv = row[1].a.string if row[1].a else None\n",
    "            launch_dict['Version Booster'].append(bv)\n",
    "            \n",
    "            # Launch Site\n",
    "            launch_site = row[2].a.string if row[2].a else None\n",
    "            launch_dict['Launch site'].append(launch_site)\n",
    "            \n",
    "            # Payload\n",
    "            payload = row[3].a.string if row[3].a else None\n",
    "            launch_dict['Payload'].append(payload)\n",
    "            \n",
    "            # Payload Mass\n",
    "            payload_mass = get_mass(row[4])\n",
    "            launch_dict['Payload mass'].append(payload_mass)\n",
    "            \n",
    "            # Orbit\n",
    "            orbit = row[5].a.string if row[5].a else None\n",
    "            launch_dict['Orbit'].append(orbit)\n",
    "            \n",
    "            # Customer\n",
    "            customer = row[6].a.string if row[6].a else None\n",
    "            launch_dict['Customer'].append(customer)\n",
    "            \n",
    "            # Launch Outcome\n",
    "            launch_outcome = list(row[7].strings)[0] if row[7].strings else None\n",
    "            launch_dict['Launch outcome'].append(launch_outcome)\n",
    "            \n",
    "            # Booster Landing\n",
    "            booster_landing = landing_status(row[8]) if len(row) > 8 else None\n",
    "            launch_dict['Booster landing'].append(booster_landing)"
   ]
  },
  {
   "cell_type": "code",
   "execution_count": 21,
   "id": "7e1569be-8b8b-424e-808b-56087c5d277d",
   "metadata": {},
   "outputs": [
    {
     "data": {
      "text/html": [
       "<div>\n",
       "<style scoped>\n",
       "    .dataframe tbody tr th:only-of-type {\n",
       "        vertical-align: middle;\n",
       "    }\n",
       "\n",
       "    .dataframe tbody tr th {\n",
       "        vertical-align: top;\n",
       "    }\n",
       "\n",
       "    .dataframe thead th {\n",
       "        text-align: right;\n",
       "    }\n",
       "</style>\n",
       "<table border=\"1\" class=\"dataframe\">\n",
       "  <thead>\n",
       "    <tr style=\"text-align: right;\">\n",
       "      <th></th>\n",
       "      <th>Flight No.</th>\n",
       "      <th>Launch site</th>\n",
       "      <th>Payload</th>\n",
       "      <th>Payload mass</th>\n",
       "      <th>Orbit</th>\n",
       "      <th>Customer</th>\n",
       "      <th>Launch outcome</th>\n",
       "      <th>Version Booster</th>\n",
       "      <th>Booster landing</th>\n",
       "      <th>Date</th>\n",
       "      <th>Time</th>\n",
       "    </tr>\n",
       "  </thead>\n",
       "  <tbody>\n",
       "    <tr>\n",
       "      <th>0</th>\n",
       "      <td>1</td>\n",
       "      <td>CCAFS</td>\n",
       "      <td>Dragon Spacecraft Qualification Unit</td>\n",
       "      <td>0</td>\n",
       "      <td>LEO</td>\n",
       "      <td>SpaceX</td>\n",
       "      <td>Success\\n</td>\n",
       "      <td>F9 v1.07B0003.18</td>\n",
       "      <td>Failure</td>\n",
       "      <td>4 June 2010</td>\n",
       "      <td>18:45</td>\n",
       "    </tr>\n",
       "    <tr>\n",
       "      <th>1</th>\n",
       "      <td>2</td>\n",
       "      <td>CCAFS</td>\n",
       "      <td>Dragon</td>\n",
       "      <td>0</td>\n",
       "      <td>LEO</td>\n",
       "      <td>NASA</td>\n",
       "      <td>Success</td>\n",
       "      <td>F9 v1.07B0004.18</td>\n",
       "      <td>Failure</td>\n",
       "      <td>8 December 2010</td>\n",
       "      <td>15:43</td>\n",
       "    </tr>\n",
       "    <tr>\n",
       "      <th>2</th>\n",
       "      <td>3</td>\n",
       "      <td>CCAFS</td>\n",
       "      <td>Dragon</td>\n",
       "      <td>525 kg</td>\n",
       "      <td>LEO</td>\n",
       "      <td>NASA</td>\n",
       "      <td>Success</td>\n",
       "      <td>F9 v1.07B0005.18</td>\n",
       "      <td>No attempt\\n</td>\n",
       "      <td>22 May 2012</td>\n",
       "      <td>07:44</td>\n",
       "    </tr>\n",
       "    <tr>\n",
       "      <th>3</th>\n",
       "      <td>4</td>\n",
       "      <td>CCAFS</td>\n",
       "      <td>SpaceX CRS-1</td>\n",
       "      <td>4,700 kg</td>\n",
       "      <td>LEO</td>\n",
       "      <td>NASA</td>\n",
       "      <td>Success\\n</td>\n",
       "      <td>F9 v1.07B0006.18</td>\n",
       "      <td>No attempt</td>\n",
       "      <td>8 October 2012</td>\n",
       "      <td>00:35</td>\n",
       "    </tr>\n",
       "    <tr>\n",
       "      <th>4</th>\n",
       "      <td>5</td>\n",
       "      <td>CCAFS</td>\n",
       "      <td>SpaceX CRS-2</td>\n",
       "      <td>4,877 kg</td>\n",
       "      <td>LEO</td>\n",
       "      <td>NASA</td>\n",
       "      <td>Success\\n</td>\n",
       "      <td>F9 v1.07B0007.18</td>\n",
       "      <td>No attempt\\n</td>\n",
       "      <td>1 March 2013</td>\n",
       "      <td>15:10</td>\n",
       "    </tr>\n",
       "  </tbody>\n",
       "</table>\n",
       "</div>"
      ],
      "text/plain": [
       "  Flight No. Launch site                               Payload Payload mass  \\\n",
       "0          1       CCAFS  Dragon Spacecraft Qualification Unit            0   \n",
       "1          2       CCAFS                                Dragon            0   \n",
       "2          3       CCAFS                                Dragon       525 kg   \n",
       "3          4       CCAFS                          SpaceX CRS-1     4,700 kg   \n",
       "4          5       CCAFS                          SpaceX CRS-2     4,877 kg   \n",
       "\n",
       "  Orbit Customer Launch outcome   Version Booster Booster landing  \\\n",
       "0   LEO   SpaceX      Success\\n  F9 v1.07B0003.18         Failure   \n",
       "1   LEO     NASA        Success  F9 v1.07B0004.18         Failure   \n",
       "2   LEO     NASA        Success  F9 v1.07B0005.18    No attempt\\n   \n",
       "3   LEO     NASA      Success\\n  F9 v1.07B0006.18      No attempt   \n",
       "4   LEO     NASA      Success\\n  F9 v1.07B0007.18    No attempt\\n   \n",
       "\n",
       "              Date   Time  \n",
       "0      4 June 2010  18:45  \n",
       "1  8 December 2010  15:43  \n",
       "2      22 May 2012  07:44  \n",
       "3   8 October 2012  00:35  \n",
       "4     1 March 2013  15:10  "
      ]
     },
     "execution_count": 21,
     "metadata": {},
     "output_type": "execute_result"
    }
   ],
   "source": [
    "df = pd.DataFrame({key: pd.Series(value) for key, value in launch_dict.items()})\n",
    "\n",
    "# Display first 5 rows\n",
    "df.head()"
   ]
  },
  {
   "cell_type": "code",
   "execution_count": null,
   "id": "d91878c3-e3a8-4b25-a19f-41d7ad24e9e0",
   "metadata": {},
   "outputs": [],
   "source": []
  }
 ],
 "metadata": {
  "kernelspec": {
   "display_name": "Python [conda env:base] *",
   "language": "python",
   "name": "conda-base-py"
  },
  "language_info": {
   "codemirror_mode": {
    "name": "ipython",
    "version": 3
   },
   "file_extension": ".py",
   "mimetype": "text/x-python",
   "name": "python",
   "nbconvert_exporter": "python",
   "pygments_lexer": "ipython3",
   "version": "3.12.7"
  }
 },
 "nbformat": 4,
 "nbformat_minor": 5
}
